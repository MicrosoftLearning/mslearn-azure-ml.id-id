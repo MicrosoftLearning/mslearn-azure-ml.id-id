{
  "cells": [
    {
      "cell_type": "markdown",
      "metadata": {},
      "source": [
        "# Melatih model klasifikasi dengan Pembelajaran Mesin Otomatis\n",
        "\n",
        "Ada banyak jenis algoritma pembelajaran mesin yang dapat Anda gunakan untuk melatih model, dan terkadang tidak mudah untuk menentukan algoritma yang paling efektif untuk persyaratan data dan prediksi khusus Anda. Selain itu, Anda dapat secara signifikan memengaruhi performa prediktif model dengan melakukan pra-pemrosesan data pelatihan, menggunakan teknik seperti normalisasi, imputasi fitur yang hilang, dan lainnya. Dalam pencarian Anda untuk menemukan model terbaik untuk kebutuhan Anda, Anda mungkin perlu mencoba banyak kombinasi algoritma dan transformasi pra-pemrosesan; yang membutuhkan banyak waktu dan sumber daya komputasi.\n",
        "\n",
        "Azure Machine Learning memungkinkan Anda mengotomatiskan perbandingan model yang dilatih menggunakan algoritma dan opsi praprosem yang berbeda. Anda dapat menggunakan antarmuka visual di [Azure Machine Learning Studio](https://ml/azure.com) atau Python SDK (v2) untuk memanfaatkan kemampuan ini. Python SDK memberi Anda kontrol yang lebih besar atas pengaturan untuk pekerjaan pembelajaran mesin otomatis, tetapi antarmuka visual lebih mudah digunakan.\n",
        "\n",
        "## Sebelum Anda memulai\n",
        "\n",
        "Anda akan memerlukan versi terbaru paket  **azureml-ai-ml** untuk menjalankan kode di notebook ini. Jalankan sel di bawah ini untuk memverifikasi bahwa sel diinstal.\n",
        "\n",
        "> **Catatan:**\n",
        "> Jika paket **azure-ai-ml** tidak diinstal, jalankan `pip install azure-ai-ml` untuk menginstalnya."
      ]
    },
    {
      "cell_type": "code",
      "execution_count": null,
      "metadata": {
        "vscode": {
          "languageId": "python"
        }
      },
      "outputs": [],
      "source": [
        "## Menyambungkan ke ruang kerja Anda\n",
        "\n",
        "Dengan paket SDK yang diperlukan terinstal, sekarang Anda siap untuk terhubung ke ruang kerja Anda.\n",
        "\n",
        "Untuk menyambungkan ke ruang kerja, kita memerlukan parameter pengidentifikasi - ID langganan, nama grup sumber daya, dan nama ruang kerja. Nama grup sumber daya dan nama ruang kerja sudah diisi untuk Anda. Anda hanya memerlukan ID langganan untuk menyelesaikan perintah.\n",
        "\n",
        "Untuk menemukan parameter yang diperlukan, klik nama langganan dan ruang kerja di kanan atas Studio. Panel akan terbuka di sebelah kanan.\n",
        "\n",
        "<p style=\"color:red;font-size:120%;background-color:yellow;font-weight:bold\"> Salin ID langganan dan ganti **YOUR-SUBSCRIPTION-ID** dengan nilai yang Anda salin. </p>"
      ]
    },
    {
      "attachments": {},
      "cell_type": "markdown",
      "metadata": {},
      "source": [
        "## Siapkan data\n",
        "\n",
        "Anda tidak perlu membuat skrip pelatihan untuk pembelajaran mesin otomatis, tetapi Anda perlu memuat data pelatihan. \n",
        "\n",
        "Dalam hal ini, Anda akan menggunakan himpunan data yang berisi detail pasien diabetes. \n",
        "\n",
        "Untuk meneruskan himpunan data sebagai input ke pekerjaan pembelajaran mesin otomatis, data harus dalam bentuk tabular dan menyertakan kolom target. Agar data ditafsirkan sebagai himpunan data tabular, himpunan data input harus **MLTable**.\n",
        "\n",
        "Aset data MLTable telah dibuat untuk Anda selama pengaturan. Anda dapat menjelajahi aset data dengan menavigasi ke halaman **Data** . Anda akan mengambil aset data di sini dengan menentukan nama `diabetes-training-table` dan versinya `1`. "
      ]
    },
    {
      "cell_type": "code",
      "execution_count": null,
      "metadata": {
        "gather": {
          "logged": 1664965651163
        },
        "jupyter": {
          "outputs_hidden": false,
          "source_hidden": false
        },
        "nteract": {
          "transient": {
            "deleting": false
          }
        },
        "vscode": {
          "languageId": "python"
        }
      },
      "outputs": [],
      "source": [
        "## Mengonfigurasi pekerjaan pembelajaran mesin otomatis\n",
        "\n",
        "Sekarang, Anda siap untuk mengonfigurasi eksperimen pembelajaran mesin otomatis.\n",
        "\n",
        "Ketika Anda menjalankan kode di bawah ini, itu akan membuat pekerjaan pembelajaran mesin otomatis yang:\n",
        "\n",
        "- Menggunakan kluster komputasi bernama `aml-cluster`\n",
        "- `Diabetic` Menetapkan sebagai kolom target\n",
        "- `accuracy` Mengatur sebagai metrik utama\n",
        "- Waktu habis setelah `60` menit dari total waktu pelatihan \n",
        "- Melatih maksimal `5` model\n",
        "- Tidak ada model yang akan dilatih dengan `LogisticRegression` algoritma"
      ]
    },
    {
      "cell_type": "code",
      "execution_count": null,
      "metadata": {
        "vscode": {
          "languageId": "python"
        }
      },
      "outputs": [],
      "source": [
        "## Menjalankan tugas pembelajaran mesin otomatis\n",
        "\n",
        "OKE, Anda siap untuk pergi. Mari kita jalankan eksperimen pembelajaran mesin otomatis.\n",
        "\n",
        "> **Catatan**: Ini mungkin perlu waktu!"
      ]
    },
    {
      "cell_type": "markdown",
      "metadata": {},
      "source": [
        "Saat pekerjaan berjalan, Anda dapat memantaunya di Studio."
      ]
    },
    {
      "cell_type": "code",
      "execution_count": null,
      "metadata": {
        "gather": {
          "logged": 1664965655212
        },
        "jupyter": {
          "outputs_hidden": false,
          "source_hidden": false
        },
        "nteract": {
          "transient": {
            "deleting": false
          }
        },
        "vscode": {
          "languageId": "python"
        }
      },
      "outputs": [],
      "source": [
        "from azure.ai.ml.constants import AssetTypes\n",
        "from azure.ai.ml import Input\n",
        "\n",
        "# creates a dataset based on the files in the local data folder\n",
        "my_training_data_input = Input(type=AssetTypes.MLTABLE, path=\"azureml:diabetes-training:1\")"
      ]
    },
    {
      "cell_type": "markdown",
      "metadata": {},
      "source": [
        "## Configure automated machine learning job\n",
        "\n",
        "Now, you're ready to configure the automated machine learning experiment.\n",
        "\n",
        "When you run the code below, it will create an automated machine learning job that:\n",
        "\n",
        "- Uses the compute cluster named `aml-cluster`\n",
        "- Sets `Diabetic` as the target column\n",
        "- Sets `accuracy` as the primary metric\n",
        "- Times out after `60` minutes of total training time \n",
        "- Trains a maximum of `5` models\n",
        "- No model will be trained with the `LogisticRegression` algorithm"
      ]
    },
    {
      "cell_type": "code",
      "execution_count": null,
      "metadata": {
        "gather": {
          "logged": 1664965734226
        },
        "jupyter": {
          "outputs_hidden": false,
          "source_hidden": false
        },
        "nteract": {
          "transient": {
            "deleting": false
          }
        },
        "vscode": {
          "languageId": "python"
        }
      },
      "outputs": [],
      "source": [
        "from azure.ai.ml import automl\n",
        "\n",
        "# configure the classification job\n",
        "classification_job = automl.classification(\n",
        "    compute=\"aml-cluster\",\n",
        "    experiment_name=\"auto-ml-class-dev\",\n",
        "    training_data=my_training_data_input,\n",
        "    target_column_name=\"Diabetic\",\n",
        "    primary_metric=\"accuracy\",\n",
        "    n_cross_validations=5,\n",
        "    enable_model_explainability=True\n",
        ")\n",
        "\n",
        "# set the limits (optional)\n",
        "classification_job.set_limits(\n",
        "    timeout_minutes=60, \n",
        "    trial_timeout_minutes=20, \n",
        "    max_trials=5,\n",
        "    enable_early_termination=True,\n",
        ")\n",
        "\n",
        "# set the training properties (optional)\n",
        "classification_job.set_training(\n",
        "    blocked_training_algorithms=[\"LogisticRegression\"], \n",
        "    enable_onnx_compatible_models=True\n",
        ")"
      ]
    },
    {
      "cell_type": "markdown",
      "metadata": {},
      "source": [
        "## Run an automated machine learning job\n",
        "\n",
        "OK, you're ready to go. Let's run the automated machine learning experiment.\n",
        "\n",
        "> **Note**: This may take some time!"
      ]
    },
    {
      "cell_type": "code",
      "execution_count": null,
      "metadata": {
        "gather": {
          "logged": 1664965739262
        },
        "jupyter": {
          "outputs_hidden": false,
          "source_hidden": false
        },
        "nteract": {
          "transient": {
            "deleting": false
          }
        },
        "vscode": {
          "languageId": "python"
        }
      },
      "outputs": [],
      "source": [
        "# Submit the AutoML job\n",
        "returned_job = ml_client.jobs.create_or_update(\n",
        "    classification_job\n",
        ")  \n",
        "\n",
        "# submit the job to the backend\n",
        "aml_url = returned_job.studio_url\n",
        "print(\"Monitor your job at\", aml_url)"
      ]
    },
    {
      "cell_type": "markdown",
      "metadata": {},
      "source": [
        "While the job is running, you can monitor it in the Studio."
      ]
    }
  ],
  "metadata": {
    "kernel_info": {
      "name": "python38-azureml"
    },
    "kernelspec": {
      "display_name": "Python 3.8 - AzureML",
      "language": "python",
      "name": "python38-azureml"
    },
    "microsoft": {
      "host": {
        "AzureML": {
          "notebookHasBeenCompleted": true
        }
      }
    },
    "nteract": {
      "version": "nteract-front-end@1.0.0"
    },
    "vscode": {
      "interpreter": {
        "hash": "f2b2cd046deda8eabef1e765a11d0ec9aa9bd1d31d56ce79c815a38c323e14ec"
      }
    }
  },
  "nbformat": 4,
  "nbformat_minor": 2
}