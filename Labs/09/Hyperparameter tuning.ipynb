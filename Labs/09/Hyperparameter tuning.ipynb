{
  "cells": [
    {
      "cell_type": "markdown",
      "metadata": {},
      "source": [
        "# Menyelaraskan hiperparameter dengan pekerjaan pembersihan\n",
        "\n",
        "Ada banyak algoritma pembelajaran mesin yang memerlukan hiperparameter (nilai parameter yang memengaruhi pelatihan, tetapi tidak dapat ditentukan dari data pelatihan itu sendiri). Misalnya, saat melatih model regresi logistik, Anda dapat menggunakan hiperparameter tingkat regularisasi untuk menangkal bias dalam model; atau saat melatih jaringan saraf konvolusional, Anda dapat menggunakan hiperparameter seperti tingkat pembelajaran dan ukuran batch untuk mengontrol bagaimana bobot disesuaikan dan berapa banyak item data yang diproses dalam batch mini masing-masing. Pilihan nilai hiperparameter dapat secara signifikan memengaruhi performa model terlatih, atau waktu yang diperlukan untuk melatihnya; dan seringkali Anda perlu mencoba beberapa kombinasi untuk menemukan solusi optimal. \n",
        "\n",
        "## Sebelum Anda memulai\n",
        "\n",
        "Anda akan memerlukan versi terbaru paket  **azureml-ai-ml** untuk menjalankan kode di notebook ini. Jalankan sel di bawah ini untuk memverifikasi bahwa sel diinstal.\n",
        "\n",
        "> **Catatan:**\n",
        "> Jika paket **azure-ai-ml** tidak diinstal, jalankan `pip install azure-ai-ml` untuk menginstalnya."
      ]
    },
    {
      "cell_type": "code",
      "execution_count": null,
      "metadata": {
        "gather": {
          "logged": 1667591781367
        },
        "vscode": {
          "languageId": "python"
        }
      },
      "outputs": [],
      "source": [
        "## Menyambungkan ke ruang kerja Anda\n",
        "\n",
        "Dengan paket SDK yang diperlukan terinstal, sekarang Anda siap untuk terhubung ke ruang kerja Anda.\n",
        "\n",
        "Untuk menyambungkan ke ruang kerja, kita memerlukan parameter pengidentifikasi - ID langganan, nama grup sumber daya, dan nama ruang kerja. Nama grup sumber daya dan nama ruang kerja sudah diisi untuk Anda. Anda hanya memerlukan ID langganan untuk menyelesaikan perintah.\n",
        "\n",
        "Untuk menemukan parameter yang diperlukan, klik nama langganan dan ruang kerja di kanan atas Studio. Panel akan terbuka di sebelah kanan.\n",
        "\n",
        "<p style=\"color:red;font-size:120%;background-color:yellow;font-weight:bold\"> Salin ID langganan dan ganti **YOUR-SUBSCRIPTION-ID** dengan nilai yang Anda salin. </p>"
      ]
    },
    {
      "attachments": {},
      "cell_type": "markdown",
      "metadata": {},
      "source": [
        "## Membuat skrip pelatihan\n",
        "Penyetelan hyperparameter sangat ideal ketika Anda ingin melatih model pembelajaran mesin tetapi bervariasi parameter input. Anda harus membuat skrip pelatihan yang mengharapkan parameter input yang mewakili salah satu hiperparameter algoritma.\n",
        "\n",
        "Jalankan sel berikut untuk membuat folder **src** dan skrip pelatihan.\n",
        "\n",
        "Perhatikan bahwa skrip pelatihan mengharapkan dua parameter input:\n",
        "\n",
        "- `--training_data` yang mengharapkan string. Anda akan menentukan jalur ke aset data terdaftar sebagai data pelatihan input.\n",
        "- `--reg_rate` yang mengharapkan angka, tetapi memiliki nilai `0.01`default . Anda akan menggunakan parameter input ini untuk penyetelan hiperparameter."
      ]
    },
    {
      "cell_type": "code",
      "execution_count": null,
      "metadata": {
        "gather": {
          "logged": 1667591793668
        },
        "vscode": {
          "languageId": "python"
        }
      },
      "outputs": [],
      "source": [
        "## Mengonfigurasi dan menjalankan pekerjaan perintah\n",
        "\n",
        "Jalankan sel di bawah ini untuk melatih model klasifikasi untuk memprediksi diabetes. Model ini dilatih dengan menjalankan skrip **py kereta\\.** yang dapat ditemukan di folder **src**. Ini menggunakan aset data terdaftar `diabetes-data` sebagai data pelatihan. \n",
        "\n",
        "- `code`: menentukan folder yang menyertakan skrip yang akan dijalankan.\n",
        "- `command`: menentukan apa yang harus dijalankan dengan tepat.\n",
        "- `environment`: menentukan paket yang diperlukan untuk diinstal pada komputasi sebelum menjalankan perintah.\n",
        "- `compute`: menentukan komputasi yang akan digunakan untuk menjalankan perintah.\n",
        "- `display_name`: nama pekerjaan individu.\n",
        "- `experiment_name`: nama eksperimen tempat pekerjaan berada.\n",
        "\n",
        "Perhatikan bahwa pekerjaan perintah hanya menjalankan skrip pelatihan sekali, dengan tingkat `0.1`regularisasi . Sebelum Anda menjalankan pekerjaan pembersihan untuk menyelaraskan hiperparameter, ini adalah praktik terbaik untuk menguji apakah skrip Anda berfungsi seperti yang diharapkan dengan pekerjaan perintah."
      ]
    },
    {
      "cell_type": "code",
      "execution_count": null,
      "metadata": {
        "gather": {
          "logged": 1667591797746
        },
        "vscode": {
          "languageId": "python"
        }
      },
      "outputs": [],
      "source": [
        "## Menentukan ruang pencarian\n",
        "\n",
        "Ketika pekerjaan perintah Anda berhasil diselesaikan, Anda dapat mengonfigurasi dan menjalankan pekerjaan pembersihan. \n",
        "\n",
        "Pertama, Anda harus menentukan ruang pencarian untuk hyperparameter Anda. Untuk melatih tiga model, masing-masing dengan tingkat regularisasi yang berbeda (`0.01`, , atau `1`), Anda dapat menentukan ruang pencarian dengan `Choice` hyperparameter`0.1`. "
      ]
    },
    {
      "cell_type": "markdown",
      "metadata": {},
      "source": [
        "## Mengonfigurasi dan mengirimkan pekerjaan pembersihan\n",
        "\n",
        "Anda akan menggunakan fungsi pembersihan untuk melakukan penyetelan hiperparameter pada skrip pelatihan Anda. Untuk mengonfigurasi pekerjaan pembersihan, Anda harus mengonfigurasi hal berikut:\n",
        "\n",
        "- `compute`: Nama target komputasi untuk menjalankan pekerjaan.\n",
        "- `sampling_algorithm`: Algoritma pengambilan sampel hyperparameter untuk digunakan di atas ruang pencarian. Nilai yang diizinkan adalah: `random`, `grid` dan `bayesian`.\n",
        "- `primary_metric`: Nama metrik utama yang dilaporkan oleh setiap pekerjaan percobaan. Metrik harus dicatat dalam skrip pelatihan pengguna menggunakan `mlflow.log_metric()` dengan nama metrik yang sesuai.\n",
        "- `goal`: Tujuan pengoptimalan dari `primary_metric`. Nilai yang diizinkan adalah `maximize` dan `minimize`.\n",
        "- `limits`: Batasan untuk pekerjaan pembersihan. Misalnya, jumlah maksimum uji coba atau model yang ingin Anda latih.\n",
        "\n",
        "Perhatikan bahwa pekerjaan perintah digunakan sebagai dasar untuk pekerjaan pembersihan. Konfigurasi untuk pekerjaan perintah akan digunakan kembali oleh pekerjaan pembersihan."
      ]
    },
    {
      "cell_type": "code",
      "execution_count": null,
      "metadata": {
        "gather": {
          "logged": 1667591853637
        },
        "vscode": {
          "languageId": "python"
        }
      },
      "outputs": [],
      "source": [
        "Jalankan sel berikut untuk mengirimkan pekerjaan pembersihan."
      ]
    },
    {
      "cell_type": "code",
      "execution_count": null,
      "metadata": {
        "vscode": {
          "languageId": "python"
        }
      },
      "outputs": [],
      "source": [
        "Ketika pekerjaan selesai, navigasikan ke ringkasan pekerjaan. Tab **Uji Coba** akan menampilkan semua model yang telah dilatih dan perbedaan `Accuracy` skor untuk setiap nilai tingkat regularisasi yang Anda coba."
      ]
    },
    {
      "cell_type": "markdown",
      "metadata": {},
      "source": [
        "## Configure and run a command job\n",
        "\n",
        "Run the cell below to train a classification model to predict diabetes. The model is trained by running the **train\\.py** script that can be found in the **src** folder. It uses the registered `diabetes-data` data asset as the training data. \n",
        "\n",
        "- `code`: specifies the folder that includes the script to run.\n",
        "- `command`: specifies what to run exactly.\n",
        "- `environment`: specifies the necessary packages to be installed on the compute before running the command.\n",
        "- `compute`: specifies the compute to use to run the command.\n",
        "- `display_name`: the name of the individual job.\n",
        "- `experiment_name`: the name of the experiment the job belongs to.\n",
        "\n",
        "Note that the command job only runs the training script once, with a regularization rate of `0.1`. Before you run a sweep job to tune hyperparameters, it's a best practice to test whether your script works as expected with a command job."
      ]
    },
    {
      "cell_type": "code",
      "execution_count": null,
      "metadata": {
        "gather": {
          "logged": 1667592538771
        },
        "jupyter": {
          "outputs_hidden": false,
          "source_hidden": false
        },
        "nteract": {
          "transient": {
            "deleting": false
          }
        },
        "vscode": {
          "languageId": "python"
        }
      },
      "outputs": [],
      "source": [
        "from azure.ai.ml import command, Input\n",
        "from azure.ai.ml.constants import AssetTypes\n",
        "\n",
        "# configure job\n",
        "\n",
        "job = command(\n",
        "    code=\"./src\",\n",
        "    command=\"python train.py --training_data ${{inputs.diabetes_data}} --reg_rate ${{inputs.reg_rate}}\",\n",
        "    inputs={\n",
        "        \"diabetes_data\": Input(\n",
        "            type=AssetTypes.URI_FILE, \n",
        "            path=\"azureml:diabetes-data:1\"\n",
        "            ),\n",
        "        \"reg_rate\": 0.01,\n",
        "    },\n",
        "    environment=\"AzureML-sklearn-0.24-ubuntu18.04-py37-cpu@latest\",\n",
        "    compute=\"aml-cluster\",\n",
        "    display_name=\"diabetes-train-mlflow\",\n",
        "    experiment_name=\"diabetes-training\", \n",
        "    tags={\"model_type\": \"LogisticRegression\"}\n",
        "    )\n",
        "\n",
        "# submit job\n",
        "returned_job = ml_client.create_or_update(job)\n",
        "aml_url = returned_job.studio_url\n",
        "print(\"Monitor your job at\", aml_url)"
      ]
    },
    {
      "cell_type": "markdown",
      "metadata": {
        "nteract": {
          "transient": {
            "deleting": false
          }
        }
      },
      "source": [
        "## Define the search space\n",
        "\n",
        "When your command job has completed successfully, you can configure and run a sweep job. \n",
        "\n",
        "First, you'll need to specify the search space for your hyperparameter. To train three models, each with a different regularization rate (`0.01`, `0.1`, or `1`), you can define the search space with a `Choice` hyperparameter. "
      ]
    },
    {
      "cell_type": "code",
      "execution_count": null,
      "metadata": {
        "gather": {
          "logged": 1667592546442
        },
        "jupyter": {
          "outputs_hidden": false,
          "source_hidden": false
        },
        "nteract": {
          "transient": {
            "deleting": false
          }
        },
        "vscode": {
          "languageId": "python"
        }
      },
      "outputs": [],
      "source": [
        "from azure.ai.ml.sweep import Choice\n",
        "\n",
        "command_job_for_sweep = job(\n",
        "    reg_rate=Choice(values=[0.01, 0.1, 1]),\n",
        ")"
      ]
    },
    {
      "cell_type": "markdown",
      "metadata": {},
      "source": [
        "## Configure and submit the sweep job\n",
        "\n",
        "You'll use the sweep function to do hyperparameter tuning on your training script. To configure a sweep job, you'll need to configure the following:\n",
        "\n",
        "- `compute`: Name of the compute target to execute the job on.\n",
        "- `sampling_algorithm`: The hyperparameter sampling algorithm to use over the search space. Allowed values are `random`, `grid` and `bayesian`.\n",
        "- `primary_metric`: The name of the primary metric reported by each trial job. The metric must be logged in the user's training script using `mlflow.log_metric()` with the same corresponding metric name.\n",
        "- `goal`: The optimization goal of the `primary_metric`. The allowed values are `maximize` and `minimize`.\n",
        "- `limits`: Limits for the sweep job. For example, the maximum amount of trials or models you want to train.\n",
        "\n",
        "Note that the command job is used as the base for the sweep job. The configuration for the command job will be reused by the sweep job."
      ]
    },
    {
      "cell_type": "code",
      "execution_count": null,
      "metadata": {
        "gather": {
          "logged": 1667592681475
        },
        "jupyter": {
          "outputs_hidden": false,
          "source_hidden": false
        },
        "nteract": {
          "transient": {
            "deleting": false
          }
        },
        "vscode": {
          "languageId": "python"
        }
      },
      "outputs": [],
      "source": [
        "# apply the sweep parameter to obtain the sweep_job\n",
        "sweep_job = command_job_for_sweep.sweep(\n",
        "    compute=\"aml-cluster\",\n",
        "    sampling_algorithm=\"grid\",\n",
        "    primary_metric=\"training_accuracy_score\",\n",
        "    goal=\"Maximize\",\n",
        ")\n",
        "\n",
        "# set the name of the sweep job experiment\n",
        "sweep_job.experiment_name=\"sweep-diabetes\"\n",
        "\n",
        "# define the limits for this sweep\n",
        "sweep_job.set_limits(max_total_trials=4, max_concurrent_trials=2, timeout=7200)"
      ]
    },
    {
      "cell_type": "markdown",
      "metadata": {},
      "source": [
        "Run the following cell to submit the sweep job."
      ]
    },
    {
      "cell_type": "code",
      "execution_count": null,
      "metadata": {
        "gather": {
          "logged": 1667592716881
        },
        "jupyter": {
          "outputs_hidden": false,
          "source_hidden": false
        },
        "nteract": {
          "transient": {
            "deleting": false
          }
        },
        "vscode": {
          "languageId": "python"
        }
      },
      "outputs": [],
      "source": [
        "returned_sweep_job = ml_client.create_or_update(sweep_job)\n",
        "aml_url = returned_sweep_job.studio_url\n",
        "print(\"Monitor your job at\", aml_url)"
      ]
    },
    {
      "cell_type": "markdown",
      "metadata": {},
      "source": [
        "When the job is completed, navigate to the job overview. The **Trials** tab will show all models that have been trained and how the `Accuracy` score differs for each regularization rate value you tried."
      ]
    }
  ],
  "metadata": {
    "kernel_info": {
      "name": "python38-azureml"
    },
    "kernelspec": {
      "display_name": "Python 3.8 - AzureML",
      "language": "python",
      "name": "python38-azureml"
    },
    "microsoft": {
      "host": {
        "AzureML": {
          "notebookHasBeenCompleted": true
        }
      }
    },
    "nteract": {
      "version": "nteract-front-end@1.0.0"
    },
    "vscode": {
      "interpreter": {
        "hash": "f2b2cd046deda8eabef1e765a11d0ec9aa9bd1d31d56ce79c815a38c323e14ec"
      }
    }
  },
  "nbformat": 4,
  "nbformat_minor": 2
}