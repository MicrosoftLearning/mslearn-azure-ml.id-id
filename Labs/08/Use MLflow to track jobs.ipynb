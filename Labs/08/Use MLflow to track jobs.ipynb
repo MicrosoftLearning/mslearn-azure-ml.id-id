{
  "cells": [
    {
      "cell_type": "markdown",
      "metadata": {},
      "source": [
        "# Menjalankan skrip pelatihan sebagai pekerjaan perintah\n",
        "\n",
        "Anda dapat menggunakan Python SDK untuk Azure Machine Learning untuk mengirimkan skrip sebagai pekerjaan perintah. Dengan menggunakan pekerjaan, Anda dapat dengan mudah melacak parameter input dan output saat melatih model pembelajaran mesin.\n",
        "\n",
        "## Sebelum Anda memulai\n",
        "\n",
        "Anda memerlukan versi terbaru paket **azureml-ai-ml** untuk menjalankan kode di notebook ini. Jalankan sel di bawah ini untuk memverifikasi bahwa sel diinstal.\n",
        "\n",
        "> **Catatan:**\n",
        "> Jika paket **azure-ai-ml** tidak diinstal, jalankan `pip install azure-ai-ml` untuk menginstalnya."
      ]
    },
    {
      "cell_type": "code",
      "execution_count": null,
      "metadata": {
        "vscode": {
          "languageId": "python"
        }
      },
      "outputs": [],
      "source": [
        "## Menyambungkan ke ruang kerja Anda\n",
        "\n",
        "Dengan paket SDK yang diperlukan terinstal, sekarang Anda siap untuk terhubung ke ruang kerja Anda.\n",
        "\n",
        "Untuk menyambungkan ke ruang kerja, kita memerlukan parameter pengidentifikasi - ID langganan, nama grup sumber daya, dan nama ruang kerja. Nama grup sumber daya dan nama ruang kerja sudah diisi untuk Anda. Anda hanya memerlukan ID langganan untuk menyelesaikan perintah.\n",
        "\n",
        "Untuk menemukan parameter yang diperlukan, klik nama langganan dan ruang kerja di kanan atas Studio. Panel akan terbuka di sebelah kanan.\n",
        "\n",
        "<p style=\"color:red;font-size:120%;background-color:yellow;font-weight:bold\"> Salin ID langganan dan ganti **YOUR-SUBSCRIPTION-ID** dengan nilai yang Anda salin. </p>"
      ]
    },
    {
      "attachments": {},
      "cell_type": "markdown",
      "metadata": {},
      "source": [
        "## Pelacakan kustom dengan MLflow\n",
        "\n",
        "Saat menjalankan skrip sebagai pekerjaan, Anda dapat menggunakan MLflow dalam skrip pelatihan Anda untuk melacak model. MLflow memungkinkan Anda melacak parameter, metrik, atau artefak kustom yang ingin Anda simpan dengan output pekerjaan Anda.\n",
        "\n",
        "Jalankan sel berikut untuk membuat skrip **train-model-mlflow.py** di folder **src** . Skrip melatih model klasifikasi dengan menggunakan file **diabetes.csv** di folder yang sama, yang diteruskan sebagai argumen. \n",
        "\n",
        "Tinjau kode di bawah ini untuk menemukan bahwa skrip akan mengimpor `mlflow` dan mencatat:\n",
        "\n",
        "- Tingkat regularisasi sebagai **parameter**. \n",
        "- Akurasi dan AUC sebagai **metrik**.\n",
        "- Kurva ROC yang diplot sebagai **artefak**."
      ]
    },
    {
      "cell_type": "code",
      "execution_count": null,
      "metadata": {
        "gather": {
          "logged": 1663753569264
        },
        "vscode": {
          "languageId": "python"
        }
      },
      "outputs": [],
      "source": [
        "Sekarang, Anda dapat mengirimkan skrip sebagai pekerjaan perintah.\n",
        "\n",
        "Jalankan sel di bawah ini untuk melatih model. "
      ]
    },
    {
      "cell_type": "code",
      "execution_count": null,
      "metadata": {
        "vscode": {
          "languageId": "python"
        }
      },
      "outputs": [],
      "source": [
        "Di Studio, navigasikan ke pekerjaan **diabetes-train-mlflow** untuk menjelajahi gambaran umum pekerjaan perintah yang Anda jalankan:\n",
        "\n",
        "- Temukan parameter yang dicatat di tab **Gambaran Umum** , di bawah **Params**.\n",
        "- Temukan metrik yang dicatat di tab **Metrik** .\n",
        "- Temukan artefak yang dicatat di tab **Gambar** (khusus untuk gambar), dan di tab **Output + log** (semua file)."
      ]
    },
    {
      "cell_type": "markdown",
      "metadata": {},
      "source": [
        "## Autologging dengan MLflow\n",
        "\n",
        "Alih-alih menggunakan pengelogan kustom, MLflow juga dapat secara otomatis mencatat parameter, metrik, dan artefak apa pun. Autologging dengan MLflow hanya memerlukan satu baris kode.\n",
        "\n",
        "Jalankan sel berikut untuk membuat skrip **train-model-autolog.py** di folder **src** . Skrip melatih model klasifikasi dengan menggunakan file **diabetes.csv** di folder yang sama, yang diteruskan sebagai argumen. \n",
        "\n",
        "Tinjau kode di bawah ini untuk menemukan bahwa skrip akan mengimpor `mlflow` dan mengaktifkan autologging dengan baris: \n",
        "\n",
        "`mlflow.autolog()`"
      ]
    },
    {
      "cell_type": "code",
      "execution_count": null,
      "metadata": {
        "vscode": {
          "languageId": "python"
        }
      },
      "outputs": [],
      "source": [
        "Sekarang, Anda dapat mengirimkan skrip sebagai pekerjaan perintah.\n",
        "\n",
        "Jalankan sel di bawah ini untuk melatih model. "
      ]
    },
    {
      "cell_type": "code",
      "execution_count": null,
      "metadata": {
        "vscode": {
          "languageId": "python"
        }
      },
      "outputs": [],
      "source": [
        "Di Studio, navigasikan ke pekerjaan **diabetes-train-autolog** untuk menjelajahi gambaran umum pekerjaan perintah yang Anda jalankan:\n",
        "\n",
        "- Temukan parameter yang dicatat di tab **Gambaran Umum** , di bawah **Params**.\n",
        "- Temukan metrik yang dicatat di tab **Metrik** .\n",
        "- Temukan artefak yang dicatat di tab **Gambar** (khusus untuk gambar), dan di tab **Output + log** (semua file, termasuk file model)."
      ]
    },
    {
      "cell_type": "markdown",
      "metadata": {},
      "source": [
        "## Menggunakan MLflow untuk melihat dan mencari eksperimen\n",
        "\n",
        "Azure Machine Learning Studio adalah UI yang mudah digunakan untuk melihat dan membandingkan eksekusi pekerjaan. Atau, Anda dapat menggunakan MLflow untuk melihat pekerjaan eksperimen. \n",
        "\n",
        "Untuk mencantumkan pekerjaan di ruang kerja, gunakan perintah berikut untuk mencantumkan eksperimen di ruang kerja:\n"
      ]
    },
    {
      "cell_type": "code",
      "execution_count": null,
      "metadata": {
        "vscode": {
          "languageId": "python"
        }
      },
      "outputs": [],
      "source": [
        "Untuk mengambil eksperimen tertentu, Anda bisa mendapatkannya dengan namanya:"
      ]
    },
    {
      "cell_type": "markdown",
      "metadata": {},
      "source": [
        "Dengan menggunakan nama eksperimen, Anda dapat mengambil semua pekerjaan eksperimen tersebut:"
      ]
    },
    {
      "cell_type": "markdown",
      "metadata": {},
      "source": [
        "Untuk lebih mudah membandingkan eksekusi dan output pekerjaan, Anda dapat mengonfigurasi pencarian untuk memesan hasilnya. Misalnya, sel berikut mengurutkan hasilnya menurut `start_time`, dan hanya memperlihatkan hasil maksimum `2` : "
      ]
    },
    {
      "cell_type": "code",
      "execution_count": null,
      "metadata": {
        "vscode": {
          "languageId": "python"
        }
      },
      "outputs": [],
      "source": [
        "Anda bahkan bisa membuat kueri untuk memfilter eksekusi. String kueri filter ditulis dengan versi klausa SQL `WHERE` yang disederhanakan. \n",
        "\n",
        "Untuk memfilter, Anda dapat menggunakan dua kelas komparator:\n",
        "\n",
        "- Komparator numerik (metrik): =, !=, >, >=, <, dan <=.\n",
        "- Komparat string (param, tag, dan atribut): = dan !=.\n",
        "\n",
        "Pelajari selengkapnya tentang [cara melacak eksperimen dengan MLflow](https://learn.microsoft.com/azure/machine-learning/how-to-track-experiments-mlflow)."
      ]
    },
    {
      "cell_type": "markdown",
      "metadata": {},
      "source": [
        "Now, you can submit the script as a command job.\n",
        "\n",
        "Run the cell below to train the model. "
      ]
    },
    {
      "cell_type": "code",
      "execution_count": null,
      "metadata": {
        "vscode": {
          "languageId": "python"
        }
      },
      "outputs": [],
      "source": [
        "from azure.ai.ml import command\n",
        "\n",
        "# configure job\n",
        "\n",
        "job = command(\n",
        "    code=\"./src\",\n",
        "    command=\"python train-model-autolog.py --training_data diabetes.csv\",\n",
        "    environment=\"AzureML-sklearn-0.24-ubuntu18.04-py37-cpu@latest\",\n",
        "    compute=\"aml-cluster\",\n",
        "    display_name=\"diabetes-train-autolog\",\n",
        "    experiment_name=\"diabetes-training\"\n",
        "    )\n",
        "\n",
        "# submit job\n",
        "returned_job = ml_client.create_or_update(job)\n",
        "aml_url = returned_job.studio_url\n",
        "print(\"Monitor your job at\", aml_url)"
      ]
    },
    {
      "cell_type": "markdown",
      "metadata": {},
      "source": [
        "In the Studio, navigate to the **diabetes-train-autolog** job to explore the overview of the command job you ran:\n",
        "\n",
        "- Find the logged parameters in the **Overview** tab, under **Params**.\n",
        "- Find the logged metrics in the **Metrics** tab.\n",
        "- Find the logged artifacts in the **Images** tab (specifically for images), and in the **Outputs + logs** tab (all files, including the model files)."
      ]
    },
    {
      "cell_type": "markdown",
      "metadata": {},
      "source": [
        "## Use MLflow to view and search for experiments\n",
        "\n",
        "The Azure Machine Learning Studio is an easy-to-use UI to view and compare job runs. Alternatively, you can use MLflow to view experiment jobs. \n",
        "\n",
        "To list the jobs in the workspace, use the following command to list the experiments in the workspace:\n"
      ]
    },
    {
      "cell_type": "code",
      "execution_count": null,
      "metadata": {
        "vscode": {
          "languageId": "python"
        }
      },
      "outputs": [],
      "source": [
        "import mlflow\n",
        "experiments = mlflow.list_experiments()\n",
        "for exp in experiments:\n",
        "    print(exp.name)"
      ]
    },
    {
      "cell_type": "markdown",
      "metadata": {},
      "source": [
        "To retrieve a specific experiment, you can get it by its name:"
      ]
    },
    {
      "cell_type": "code",
      "execution_count": null,
      "metadata": {
        "vscode": {
          "languageId": "python"
        }
      },
      "outputs": [],
      "source": [
        "experiment_name = \"diabetes-training\"\n",
        "exp = mlflow.get_experiment_by_name(experiment_name)\n",
        "print(exp)"
      ]
    },
    {
      "cell_type": "markdown",
      "metadata": {},
      "source": [
        "Using an experiment name, you can retrieve all jobs of that experiment:"
      ]
    },
    {
      "cell_type": "code",
      "execution_count": null,
      "metadata": {
        "vscode": {
          "languageId": "python"
        }
      },
      "outputs": [],
      "source": [
        "mlflow.search_runs(exp.experiment_id)"
      ]
    },
    {
      "cell_type": "markdown",
      "metadata": {},
      "source": [
        "To more easily compare job runs and outputs, you can configure the search to order the results. For example, the following cell orders the results by `start_time`, and only shows a maximum of `2` results: "
      ]
    },
    {
      "cell_type": "code",
      "execution_count": null,
      "metadata": {
        "vscode": {
          "languageId": "python"
        }
      },
      "outputs": [],
      "source": [
        "mlflow.search_runs(exp.experiment_id, order_by=[\"start_time DESC\"], max_results=2)"
      ]
    },
    {
      "cell_type": "markdown",
      "metadata": {},
      "source": [
        "You can even create a query to filter the runs. Filter query strings are written with a simplified version of the SQL `WHERE` clause. \n",
        "\n",
        "To filter, you can use two classes of comparators:\n",
        "\n",
        "- Numeric comparators (metrics): =, !=, >, >=, <, and <=.\n",
        "- String comparators (params, tags, and attributes): = and !=.\n",
        "\n",
        "Learn more about [how to track experiments with MLflow](https://learn.microsoft.com/azure/machine-learning/how-to-track-experiments-mlflow)."
      ]
    },
    {
      "cell_type": "code",
      "execution_count": null,
      "metadata": {
        "vscode": {
          "languageId": "python"
        }
      },
      "outputs": [],
      "source": [
        "query = \"metrics.AUC > 0.8 and tags.model_type = 'LogisticRegression'\"\n",
        "mlflow.search_runs(exp.experiment_id, filter_string=query)"
      ]
    }
  ],
  "metadata": {
    "kernel_info": {
      "name": "python38-azureml"
    },
    "kernelspec": {
      "display_name": "Python 3.8 - AzureML",
      "language": "python",
      "name": "python38-azureml"
    },
    "microsoft": {
      "host": {
        "AzureML": {
          "notebookHasBeenCompleted": true
        }
      }
    },
    "nteract": {
      "version": "nteract-front-end@1.0.0"
    },
    "vscode": {
      "interpreter": {
        "hash": "f2b2cd046deda8eabef1e765a11d0ec9aa9bd1d31d56ce79c815a38c323e14ec"
      }
    }
  },
  "nbformat": 4,
  "nbformat_minor": 2
}