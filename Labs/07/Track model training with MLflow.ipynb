{
  "cells": [
    {
      "cell_type": "markdown",
      "metadata": {},
      "source": [
        "# Melacak pelatihan model di notebook dengan MLflow\n",
        "\n",
        "Anda dapat menggunakan MLflow di notebook untuk melacak model apa pun yang Anda latih. Karena Anda akan menjalankan notebook ini dengan instans komputasi Azure Machine Learning, Anda tidak perlu menyiapkan MLflow: buku catatan tersebut sudah diinstal dan terintegrasi. \n",
        "\n",
        "Anda akan menyiapkan beberapa data dan melatih model untuk memprediksi diabetes. Anda akan menggunakan autologging, dan pengelogan kustom untuk menjelajahi bagaimana Anda bisa menggunakan MLflow di notebook.\n",
        "\n",
        "## Sebelum Anda memulai\n",
        "\n",
        "Anda akan memerlukan versi terbaru paket **azureml-ai-ml** untuk menjalankan kode di notebook ini. Jalankan sel di bawah ini untuk memverifikasi bahwa sel diinstal.\n",
        "\n",
        "> **Catatan:**\n",
        "> Jika paket **azure-ai-ml** tidak diinstal, jalankan `pip install azure-ai-ml` untuk menginstalnya."
      ]
    },
    {
      "cell_type": "code",
      "execution_count": null,
      "metadata": {
        "jupyter": {
          "outputs_hidden": false,
          "source_hidden": false
        },
        "nteract": {
          "transient": {
            "deleting": false
          }
        },
        "vscode": {
          "languageId": "python"
        }
      },
      "outputs": [],
      "source": [
        "## Menyambungkan ke ruang kerja Anda\n",
        "\n",
        "Dengan paket SDK yang diperlukan terinstal, sekarang Anda siap untuk terhubung ke ruang kerja Anda.\n",
        "\n",
        "Untuk menyambungkan ke ruang kerja, kita memerlukan parameter pengidentifikasi - ID langganan, nama grup sumber daya, dan nama ruang kerja. Nama grup sumber daya dan nama ruang kerja sudah diisi untuk Anda. Anda hanya memerlukan ID langganan untuk menyelesaikan perintah.\n",
        "\n",
        "Untuk menemukan parameter yang diperlukan, klik nama langganan dan ruang kerja di kanan atas Studio. Panel akan terbuka di sebelah kanan.\n",
        "\n",
        "<p style=\"color:red;font-size:120%;background-color:yellow;font-weight:bold\"> Salin ID langganan dan ganti **YOUR-SUBSCRIPTION-ID** dengan nilai yang Anda salin. </p>"
      ]
    },
    {
      "attachments": {},
      "cell_type": "markdown",
      "metadata": {},
      "source": [
        "## Mengonfigurasi MLflow\n",
        "\n",
        "Saat Anda menjalankan notebook ini pada instans komputasi di studio Azure Machine Learning, Anda tidak perlu mengonfigurasi MLflow. \n",
        "\n",
        "Namun, ada baiknya untuk memverifikasi bahwa pustaka yang diperlukan memang diinstal:"
      ]
    },
    {
      "cell_type": "code",
      "execution_count": null,
      "metadata": {
        "gather": {
          "logged": 1668168317138
        },
        "jupyter": {
          "outputs_hidden": false,
          "source_hidden": false
        },
        "nteract": {
          "transient": {
            "deleting": false
          }
        },
        "vscode": {
          "languageId": "python"
        }
      },
      "outputs": [],
      "source": [
        "## Menyiapkan data\n",
        "\n",
        "Anda akan melatih model klasifikasi diabetes. Data pelatihan disimpan di folder **data** sebagai **diabetes.csv**. \n",
        "\n",
        "Pertama, mari kita baca datanya:"
      ]
    },
    {
      "cell_type": "code",
      "execution_count": null,
      "metadata": {
        "gather": {
          "logged": 1668168324029
        },
        "jupyter": {
          "outputs_hidden": false,
          "source_hidden": false
        },
        "nteract": {
          "transient": {
            "deleting": false
          }
        },
        "vscode": {
          "languageId": "python"
        }
      },
      "outputs": [],
      "source": [
        "Selanjutnya, Anda akan membagi data menjadi fitur dan label (Diabetes):"
      ]
    },
    {
      "cell_type": "markdown",
      "metadata": {},
      "source": [
        "Anda sekarang memiliki empat kerangka data:\n",
        "\n",
        "- `X_train`: Himpunan data pelatihan yang berisi fitur.\n",
        "- `X_test`: Himpunan data pengujian yang berisi fitur.\n",
        "- `y_train`: Label untuk himpunan data pelatihan.\n",
        "- `y_test`: Label untuk himpunan data pengujian.\n",
        "\n",
        "Anda akan menggunakannya untuk melatih dan mengevaluasi model yang akan Anda latih.\n",
        "\n",
        "## Membuat eksperimen MLflow\n",
        "\n",
        "Sekarang setelah Anda siap untuk melatih model pembelajaran mesin, Anda akan terlebih dahulu membuat eksperimen MLflow. Dengan membuat eksperimen, Anda dapat mengelompokkan semua eksekusi dalam satu eksperimen dan mempermudah menemukan eksekusi di studio."
      ]
    },
    {
      "cell_type": "code",
      "execution_count": null,
      "metadata": {
        "gather": {
          "logged": 1668168155287
        },
        "jupyter": {
          "outputs_hidden": false,
          "source_hidden": false
        },
        "nteract": {
          "transient": {
            "deleting": false
          }
        },
        "vscode": {
          "languageId": "python"
        }
      },
      "outputs": [],
      "source": [
        "## Melatih dan melacak model\n",
        "\n",
        "Untuk melacak model yang Anda latih, Anda dapat menggunakan MLflow dan mengaktifkan pembuatan log otomatis. Sel berikut akan melatih model klasifikasi menggunakan regresi logistik. Anda akan melihat bahwa Anda tidak perlu menghitung metrik evaluasi apa pun karena metrik tersebut secara otomatis dibuat dan dicatat oleh MLflow."
      ]
    },
    {
      "cell_type": "code",
      "execution_count": null,
      "metadata": {
        "gather": {
          "logged": 1668168179344
        },
        "jupyter": {
          "outputs_hidden": false,
          "source_hidden": false
        },
        "nteract": {
          "transient": {
            "deleting": false
          }
        },
        "vscode": {
          "languageId": "python"
        }
      },
      "outputs": [],
      "source": [
        "Anda juga dapat menggunakan pengelogan kustom dengan MLflow. Anda dapat menambahkan pengelogan kustom ke pembuatan log otomatis, atau Anda hanya dapat menggunakan pengelogan kustom.\n",
        "\n",
        "Mari kita latih dua model lagi dengan scikit-learn. Karena Anda menjalankan `mlflow.sklearn.autolog()` perintah sebelumnya, MLflow sekarang akan secara otomatis mencatat model apa pun yang dilatih dengan scikit-learn. Untuk menonaktifkan pembuatan log otomatis, jalankan sel berikut:"
      ]
    },
    {
      "cell_type": "markdown",
      "metadata": {},
      "source": [
        "Sekarang, Anda dapat melatih dan melacak model hanya menggunakan pengelogan kustom. \n",
        "\n",
        "Saat menjalankan sel berikut, Anda hanya akan mencatat satu parameter dan satu metrik."
      ]
    },
    {
      "cell_type": "code",
      "execution_count": null,
      "metadata": {
        "gather": {
          "logged": 1668175953133
        },
        "vscode": {
          "languageId": "python"
        }
      },
      "outputs": [],
      "source": [
        "Alasan mengapa Anda ingin melacak model, bisa untuk membandingkan hasil model yang Anda latih dengan nilai hyperparameter yang berbeda. \n",
        "\n",
        "Misalnya, Anda baru saja melatih model regresi logistik dengan tingkat regularisasi 0,1. Sekarang, latih model lain, tetapi kali ini dengan tingkat regularisasi 0,01. Karena Anda juga melacak akurasi, Anda dapat membandingkan dan memutuskan tingkat mana yang menghasilkan model berkinerja lebih baik."
      ]
    },
    {
      "cell_type": "markdown",
      "metadata": {},
      "source": [
        "Alasan lain untuk melacak hasil model Anda adalah ketika Anda menguji estimator lain. Semua model yang telah Anda latih sejauh ini menggunakan estimator regresi logistik. \n",
        "\n",
        "Jalankan sel berikut untuk melatih model dengan estimator pengklasifikasi pohon keputusan dan tinjau apakah akurasinya lebih tinggi dibandingkan dengan eksekusi lainnya."
      ]
    },
    {
      "cell_type": "code",
      "execution_count": null,
      "metadata": {
        "gather": {
          "logged": 1668175956555
        },
        "vscode": {
          "languageId": "python"
        }
      },
      "outputs": [],
      "source": [
        "Terakhir, mari kita coba mencatat artefak. Artefak dapat berupa file apa pun. Misalnya, Anda dapat memplot kurva ROC dan menyimpan plot sebagai gambar. Gambar dapat dicatat sebagai artefak. \n",
        "\n",
        "Jalankan sel berikut untuk mencatat parameter, metrik, dan artefak."
      ]
    },
    {
      "cell_type": "code",
      "execution_count": null,
      "metadata": {
        "gather": {
          "logged": 1668175959902
        },
        "vscode": {
          "languageId": "python"
        }
      },
      "outputs": [],
      "source": [
        "Tinjau hasil model di halaman Pekerjaan studio Azure Machine Learning. \n",
        "\n",
        "- Anda akan menemukan parameter di bawah **Param di** tab **Gambaran Umum** .\n",
        "- Anda akan menemukan metrik di bawah **Metrik** di tab **Gambaran Umum** , dan di tab **Metrik** .\n",
        "- Anda akan menemukan artefak di tab **Output + log** .\n",
        "\n",
        "![Cuplikan layar tab output dan log di halaman Pekerjaan.](./images/output-logs.png)"
      ]
    },
    {
      "cell_type": "markdown",
      "metadata": {},
      "source": [
        "You now have four dataframes:\n",
        "\n",
        "- `X_train`: The training dataset containing the features.\n",
        "- `X_test`: The test dataset containing the features.\n",
        "- `y_train`: The label for the training dataset.\n",
        "- `y_test`: The label for the test dataset.\n",
        "\n",
        "You'll use these to train and evaluate the models you'll train.\n",
        "\n",
        "## Create an MLflow experiment\n",
        "\n",
        "Now that you're ready to train machine learning models, you'll first create an MLflow experiment. By creating the experiment, you can group all runs within one experiment and make it easier to find the runs in the studio."
      ]
    },
    {
      "cell_type": "code",
      "execution_count": null,
      "metadata": {
        "vscode": {
          "languageId": "python"
        }
      },
      "outputs": [],
      "source": [
        "import mlflow\n",
        "experiment_name = \"mlflow-experiment-diabetes\"\n",
        "mlflow.set_experiment(experiment_name)"
      ]
    },
    {
      "cell_type": "markdown",
      "metadata": {},
      "source": [
        "## Train and track models\n",
        "\n",
        "To track a model you train, you can use MLflow and enable autologging. The following cell will train a classification model using logistic regression. You'll notice that you don't need to calculate any evaluation metrics because they're automatically created and logged by MLflow."
      ]
    },
    {
      "cell_type": "code",
      "execution_count": null,
      "metadata": {
        "gather": {
          "logged": 1668176121803
        },
        "vscode": {
          "languageId": "python"
        }
      },
      "outputs": [],
      "source": [
        "from sklearn.linear_model import LogisticRegression\n",
        "\n",
        "with mlflow.start_run():\n",
        "    mlflow.sklearn.autolog()\n",
        "\n",
        "    model = LogisticRegression(C=1/0.1, solver=\"liblinear\").fit(X_train, y_train)\n"
      ]
    },
    {
      "cell_type": "markdown",
      "metadata": {},
      "source": [
        "You can also use custom logging with MLflow. You can add custom logging to autologging, or you can use only custom logging.\n",
        "\n",
        "Let's train two more models with scikit-learn. Since you ran the `mlflow.sklearn.autolog()` command before, MLflow will now automatically log any model trained with scikit-learn. To disable the autologging, run the following cell:"
      ]
    },
    {
      "cell_type": "code",
      "execution_count": null,
      "metadata": {
        "gather": {
          "logged": 1668177101622
        },
        "jupyter": {
          "outputs_hidden": false,
          "source_hidden": false
        },
        "nteract": {
          "transient": {
            "deleting": false
          }
        },
        "vscode": {
          "languageId": "python"
        }
      },
      "outputs": [],
      "source": [
        "mlflow.sklearn.autolog(disable=True)"
      ]
    },
    {
      "cell_type": "markdown",
      "metadata": {},
      "source": [
        "Now, you can train and track models using only custom logging. \n",
        "\n",
        "When you run the following cell, you'll only log one parameter and one metric."
      ]
    },
    {
      "cell_type": "code",
      "execution_count": null,
      "metadata": {
        "jupyter": {
          "outputs_hidden": false,
          "source_hidden": false
        },
        "nteract": {
          "transient": {
            "deleting": false
          }
        },
        "vscode": {
          "languageId": "python"
        }
      },
      "outputs": [],
      "source": [
        "from sklearn.linear_model import LogisticRegression\n",
        "import numpy as np\n",
        "\n",
        "with mlflow.start_run():\n",
        "    model = LogisticRegression(C=1/0.1, solver=\"liblinear\").fit(X_train, y_train)\n",
        "\n",
        "    y_hat = model.predict(X_test)\n",
        "    acc = np.average(y_hat == y_test)\n",
        "\n",
        "    mlflow.log_param(\"regularization_rate\", 0.1)\n",
        "    mlflow.log_metric(\"Accuracy\", acc)"
      ]
    },
    {
      "cell_type": "markdown",
      "metadata": {},
      "source": [
        "The reason why you'd want to track models, could be to compare the results of models you train with different hyperparameter values. \n",
        "\n",
        "For example, you just trained a logistic regression model with a regularization rate of 0.1. Now, train another model, but this time with a regularization rate of 0.01. Since you're also tracking the accuracy, you can compare and decide which rate results in a better performing model."
      ]
    },
    {
      "cell_type": "code",
      "execution_count": null,
      "metadata": {
        "gather": {
          "logged": 1668177593117
        },
        "jupyter": {
          "outputs_hidden": false,
          "source_hidden": false
        },
        "nteract": {
          "transient": {
            "deleting": false
          }
        },
        "vscode": {
          "languageId": "python"
        }
      },
      "outputs": [],
      "source": [
        "from sklearn.linear_model import LogisticRegression\n",
        "import numpy as np\n",
        "\n",
        "with mlflow.start_run():\n",
        "    model = LogisticRegression(C=1/0.01, solver=\"liblinear\").fit(X_train, y_train)\n",
        "\n",
        "    y_hat = model.predict(X_test)\n",
        "    acc = np.average(y_hat == y_test)\n",
        "\n",
        "    mlflow.log_param(\"regularization_rate\", 0.01)\n",
        "    mlflow.log_metric(\"Accuracy\", acc)"
      ]
    },
    {
      "cell_type": "markdown",
      "metadata": {},
      "source": [
        "Another reason to track your model's results is when you're testing another estimator. All models you've trained so far used the logistic regression estimator. \n",
        "\n",
        "Run the following cell to train a model with the decision tree classifier estimator and review whether the accuracy is higher compared to the other runs."
      ]
    },
    {
      "cell_type": "code",
      "execution_count": null,
      "metadata": {
        "gather": {
          "logged": 1668177807904
        },
        "jupyter": {
          "outputs_hidden": false,
          "source_hidden": false
        },
        "nteract": {
          "transient": {
            "deleting": false
          }
        },
        "vscode": {
          "languageId": "python"
        }
      },
      "outputs": [],
      "source": [
        "from sklearn.tree import DecisionTreeClassifier\n",
        "import numpy as np\n",
        "\n",
        "with mlflow.start_run():\n",
        "    model = DecisionTreeClassifier().fit(X_train, y_train)\n",
        "\n",
        "    y_hat = model.predict(X_test)\n",
        "    acc = np.average(y_hat == y_test)\n",
        "\n",
        "    mlflow.log_param(\"estimator\", \"DecisionTreeClassifier\")\n",
        "    mlflow.log_metric(\"Accuracy\", acc)"
      ]
    },
    {
      "cell_type": "markdown",
      "metadata": {},
      "source": [
        "Finally, let's try to log an artifact. An artifact can be any file. For example, you can plot the ROC curve and store the plot as an image. The image can be logged as an artifact. \n",
        "\n",
        "Run the following cell to log a parameter, metric, and an artifact."
      ]
    },
    {
      "cell_type": "code",
      "execution_count": null,
      "metadata": {
        "vscode": {
          "languageId": "python"
        }
      },
      "outputs": [],
      "source": [
        "from sklearn.tree import DecisionTreeClassifier\n",
        "from sklearn.metrics import roc_curve\n",
        "import matplotlib.pyplot as plt\n",
        "import numpy as np\n",
        "\n",
        "with mlflow.start_run():\n",
        "    model = DecisionTreeClassifier().fit(X_train, y_train)\n",
        "\n",
        "    y_hat = model.predict(X_test)\n",
        "    acc = np.average(y_hat == y_test)\n",
        "\n",
        "    # plot ROC curve\n",
        "    y_scores = model.predict_proba(X_test)\n",
        "\n",
        "    fpr, tpr, thresholds = roc_curve(y_test, y_scores[:,1])\n",
        "    fig = plt.figure(figsize=(6, 4))\n",
        "    # Plot the diagonal 50% line\n",
        "    plt.plot([0, 1], [0, 1], 'k--')\n",
        "    # Plot the FPR and TPR achieved by our model\n",
        "    plt.plot(fpr, tpr)\n",
        "    plt.xlabel('False Positive Rate')\n",
        "    plt.ylabel('True Positive Rate')\n",
        "    plt.title('ROC Curve')\n",
        "    plt.savefig(\"ROC-Curve.png\")\n",
        "\n",
        "    mlflow.log_param(\"estimator\", \"DecisionTreeClassifier\")\n",
        "    mlflow.log_metric(\"Accuracy\", acc)\n",
        "    mlflow.log_artifact(\"ROC-Curve.png\")"
      ]
    },
    {
      "cell_type": "markdown",
      "metadata": {},
      "source": [
        "Review the model's results on the Jobs page of the Azure Machine Learning studio. \n",
        "\n",
        "- You'll find the parameters under **Params** in the **Overview** tab.\n",
        "- You'll find the metrics under **Metrics** in the **Overview** tab, and in the **Metrics** tab.\n",
        "- You'll find the artifacts in the **Outputs + logs** tab.\n",
        "\n",
        "![Screenshot of outputs and logs tab on the Jobs page.](./images/output-logs.png)"
      ]
    }
  ],
  "metadata": {
    "interpreter": {
      "hash": "f2b2cd046deda8eabef1e765a11d0ec9aa9bd1d31d56ce79c815a38c323e14ec"
    },
    "kernel_info": {
      "name": "python38-azureml"
    },
    "kernelspec": {
      "display_name": "Python 3.8 - AzureML",
      "language": "python",
      "name": "python38-azureml"
    },
    "microsoft": {
      "host": {
        "AzureML": {
          "notebookHasBeenCompleted": true
        }
      }
    },
    "nteract": {
      "version": "nteract-front-end@1.0.0"
    }
  },
  "nbformat": 4,
  "nbformat_minor": 0
}