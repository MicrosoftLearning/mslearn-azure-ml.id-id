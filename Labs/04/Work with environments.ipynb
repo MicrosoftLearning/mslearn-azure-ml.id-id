{
  "cells": [
    {
      "cell_type": "markdown",
      "metadata": {
        "nteract": {
          "transient": {
            "deleting": false
          }
        }
      },
      "source": [
        "# Bekerja dengan lingkungan\n",
        "\n",
        "\n",
        "Saat Anda menjalankan skrip sebagai pekerjaan Azure Machine Learning, Anda perlu menentukan konteks eksekusi untuk pekerjaan yang dijalankan. Salah satu konfigurasi utama adalah target komputasi tempat skrip akan dijalankan. Ini bisa menjadi stasiun kerja lokal (dalam hal ini instans komputasi), atau target komputasi jarak jauh seperti kluster komputasi terkelola Azure Machine Learning yang disediakan sesuai permintaan.\n",
        "\n",
        "Dalam buku catatan ini, Anda akan membuat kluster komputasi dan menjelajahi target komputasi untuk pekerjaan.\n",
        "\n",
        "## Sebelum Anda memulai\n",
        "\n",
        "Anda memerlukan versi terbaru paket  **azureml-ai-ml** untuk menjalankan kode di notebook ini. Jalankan sel di bawah ini untuk memverifikasi bahwa sel diinstal.\n",
        "\n",
        "> **Catatan:**\n",
        "> Jika paket **azure-ai-ml** tidak diinstal, jalankan `pip install azure-ai-ml` untuk menginstalnya."
      ]
    },
    {
      "cell_type": "code",
      "execution_count": null,
      "metadata": {
        "gather": {
          "logged": 1665745893251
        },
        "vscode": {
          "languageId": "python"
        }
      },
      "outputs": [],
      "source": [
        "## Menyambungkan ke ruang kerja Anda\n",
        "\n",
        "Dengan paket SDK yang diperlukan terinstal, sekarang Anda siap untuk terhubung ke ruang kerja Anda.\n",
        "\n",
        "Untuk menyambungkan ke ruang kerja, kita memerlukan parameter pengidentifikasi - ID langganan, nama grup sumber daya, dan nama ruang kerja. Nama grup sumber daya dan nama ruang kerja sudah diisi untuk Anda. Anda hanya memerlukan ID langganan untuk menyelesaikan perintah.\n",
        "\n",
        "Untuk menemukan parameter yang diperlukan, klik nama langganan dan ruang kerja di kanan atas Studio. Panel akan terbuka di sebelah kanan.\n",
        "\n",
        "<p style=\"color:red;font-size:120%;background-color:yellow;font-weight:bold\"> Salin ID langganan dan ganti **YOUR-SUBSCRIPTION-ID** dengan nilai yang Anda salin. </p>"
      ]
    },
    {
      "attachments": {},
      "cell_type": "markdown",
      "metadata": {
        "nteract": {
          "transient": {
            "deleting": false
          }
        }
      },
      "source": [
        "## Menjalankan skrip sebagai pekerjaan\n",
        "\n",
        "Untuk melatih model, Anda akan terlebih dahulu membuat skrip **diabetes_training.py** di folder **src** . Skrip menggunakan file **diabetes.csv** di folder yang sama dengan data pelatihan.\n",
        "\n",
        "Perhatikan bahwa Anda mengimpor pustaka di awal skrip. Fungsi dari pustaka ini digunakan untuk memproses data dan melatih model. Komputasi apa pun yang Anda gunakan untuk menjalankan skrip harus menginstal pustaka ini."
      ]
    },
    {
      "cell_type": "code",
      "execution_count": null,
      "metadata": {
        "gather": {
          "logged": 1665745927409
        },
        "jupyter": {
          "outputs_hidden": false,
          "source_hidden": false
        },
        "nteract": {
          "transient": {
            "deleting": false
          }
        },
        "vscode": {
          "languageId": "python"
        }
      },
      "outputs": [],
      "source": [
        "Setelah membuat skrip, Anda dapat menjalankan skrip sebagai pekerjaan. Skrip menggunakan pustaka umum. Jadi Anda dapat menggunakan lingkungan yang dikumpulkan yang mencakup panda, numpy, dan scikit-learn, antara lain.\n",
        "\n",
        "Pekerjaan ini menggunakan versi terbaru dari lingkungan yang dikumpulkan: `AzureML-sklearn-0.24-ubuntu18.04-py37-cpu`."
      ]
    },
    {
      "cell_type": "code",
      "execution_count": null,
      "metadata": {
        "vscode": {
          "languageId": "python"
        }
      },
      "outputs": [],
      "source": [
        "Saat pekerjaan sedang berjalan, Anda sudah dapat menjalankan sel berikutnya."
      ]
    },
    {
      "cell_type": "markdown",
      "metadata": {},
      "source": [
        "## Mencantumkan lingkungan\n",
        "\n",
        "Mari kita jelajahi lingkungan dalam ruang kerja. \n",
        "\n",
        "Dalam pekerjaan sebelumnya, Anda menggunakan salah satu lingkungan yang dikumpulkan. Untuk menjelajahi semua lingkungan yang sudah ada di ruang kerja, Anda dapat mencantumkan lingkungan: "
      ]
    },
    {
      "cell_type": "code",
      "execution_count": null,
      "metadata": {
        "vscode": {
          "languageId": "python"
        }
      },
      "outputs": [],
      "source": [
        "Perhatikan bahwa semua lingkungan yang dikumpulkan memiliki nama yang memulai **AzureML-** (Anda tidak dapat menggunakan awalan ini untuk lingkungan Anda sendiri).\n",
        "\n",
        "Untuk meninjau lingkungan tertentu, Anda dapat mengambil lingkungan berdasarkan nama dan versinya. Misalnya, Anda dapat mengambil *deskripsi* dan *tag* lingkungan yang dikumpulkan yang Anda gunakan untuk pekerjaan sebelumnya:"
      ]
    },
    {
      "cell_type": "markdown",
      "metadata": {},
      "source": [
        "## Membuat dan menggunakan lingkungan kustom\n",
        "\n",
        "Jika lingkungan yang dikumpulkan tidak menyertakan semua paket Python yang Anda butuhkan untuk menjalankan skrip, Anda dapat membuat lingkungan kustom Anda sendiri. Dengan mencantumkan semua paket yang diperlukan di lingkungan, Anda dapat dengan mudah menjalankan kembali skrip Anda. Semua dependensi disimpan di lingkungan yang kemudian dapat Anda tentukan dalam konfigurasi pekerjaan, terlepas dari komputasi yang Anda gunakan.\n",
        "\n",
        "Misalnya, Anda dapat membuat lingkungan hanya dari gambar Docker. Kerangka kerja tertentu seperti PyTorch akan memiliki gambar Docker publik yang sudah mencakup semua yang Anda butuhkan. \n",
        "\n",
        "Mari kita buat lingkungan dari gambar Docker:"
      ]
    },
    {
      "cell_type": "code",
      "execution_count": null,
      "metadata": {
        "vscode": {
          "languageId": "python"
        }
      },
      "outputs": [],
      "source": [
        "Lingkungan sekarang terdaftar di ruang kerja Anda dan Anda dapat mereferensikannya saat menjalankan skrip sebagai pekerjaan:"
      ]
    },
    {
      "cell_type": "markdown",
      "metadata": {},
      "source": [
        "<p style=\"color:red;font-size:120%;background-color:yellow;font-weight:bold\"> Pekerjaan akan dengan cepat gagal! Tinjau pesan kesalahan. </p>\n",
        "\n",
        "Pesan kesalahan akan memberi tahu Anda bahwa tidak ada modul bernama pandas. Ada dua kemungkinan penyebab kesalahan tersebut:\n",
        "\n",
        "- Skrip menggunakan panda tetapi tidak mengimpor pustaka (`import pandas as pd`). \n",
        "- Skrip memang mengimpor pustaka di bagian atas skrip tetapi komputasi tidak menginstal pustaka (`pip install pandas`).\n",
        "\n",
        "Setelah meninjau `diabetes-training.py` skrip, Anda dapat mengamati skrip sudah benar, yang berarti pustaka tidak diinstal. Dengan kata lain, lingkungan tidak menyertakan paket yang diperlukan.\n",
        "\n",
        "Mari kita buat lingkungan baru, menggunakan gambar Docker dasar yang digunakan dalam pekerjaan sebelumnya. Sekarang, Anda akan menambahkan spesifikasi conda untuk memastikan paket yang diperlukan akan diinstal. Pertama, jalankan sel berikut untuk membuat file spesifikasi conda:"
      ]
    },
    {
      "cell_type": "markdown",
      "metadata": {},
      "source": [
        "Perhatikan bahwa semua dependensi yang diperlukan disertakan dalam file spesifikasi conda agar skrip berhasil dijalankan.\n",
        "\n",
        "Buat lingkungan baru menggunakan gambar Docker dasar **dan** file spesifikasi conda untuk menambahkan dependensi yang diperlukan. Azure Machine Learning akan membangun lingkungan conda di atas gambar Docker yang Anda sediakan. "
      ]
    },
    {
      "cell_type": "code",
      "execution_count": null,
      "metadata": {
        "vscode": {
          "languageId": "python"
        }
      },
      "outputs": [],
      "source": [
        "Sekarang, Anda dapat mengirimkan pekerjaan dengan lingkungan baru untuk menjalankan skrip:"
      ]
    },
    {
      "cell_type": "markdown",
      "metadata": {},
      "source": [
        "Mengirimkan pekerjaan dengan lingkungan kustom baru memicu pembangunan lingkungan. Pertama kali Anda menggunakan lingkungan yang baru dibuat, dibutuhkan waktu 10-15 menit untuk membangun lingkungan, yang juga berarti pekerjaan Anda akan memakan waktu lebih lama untuk diselesaikan. \n",
        "\n",
        "Anda juga dapat memilih untuk memicu build lingkungan secara manual sebelum mengirimkan pekerjaan. Lingkungan hanya perlu dibangun saat pertama kali Anda menggunakannya. \n",
        "\n",
        "Saat pekerjaan memicu build lingkungan baru, Anda dapat meninjau log build di tab **Output + log** pekerjaan. Buka **azureml-logs/20_image_build_log.txt** untuk memeriksa log build lingkungan. \n",
        "\n",
        "![Cuplikan layar log build](./images/screenshot-logs.png)"
      ]
    },
    {
      "cell_type": "code",
      "execution_count": null,
      "metadata": {
        "vscode": {
          "languageId": "python"
        }
      },
      "outputs": [],
      "source": [
        "env = ml_client.environments.get(\"AzureML-sklearn-0.24-ubuntu18.04-py37-cpu\", version=44)\n",
        "print(env. description, env.tags)"
      ]
    },
    {
      "cell_type": "markdown",
      "metadata": {},
      "source": [
        "## Create and use a custom environment\n",
        "\n",
        "If a curated environment doesn't include all the Python packages you need to run your script, you can create your own custom environment. By listing all necessary packages in an environment, you can easily re-run your scripts. All the dependencies are stored in the environment which you can then specify in the job configuration, independent of the compute you use.\n",
        "\n",
        "For example, you can create an environment simply from a Docker image. Certain frameworks like PyTorch will have a public Docker image that already includes everything you need. \n",
        "\n",
        "Let's create an environment from a Docker image:"
      ]
    },
    {
      "cell_type": "code",
      "execution_count": null,
      "metadata": {
        "vscode": {
          "languageId": "python"
        }
      },
      "outputs": [],
      "source": [
        "from azure.ai.ml.entities import Environment\n",
        "\n",
        "env_docker_image = Environment(\n",
        "    image=\"mcr.microsoft.com/azureml/openmpi3.1.2-ubuntu18.04\",\n",
        "    name=\"docker-image-example\",\n",
        "    description=\"Environment created from a Docker image.\",\n",
        ")\n",
        "ml_client.environments.create_or_update(env_docker_image)"
      ]
    },
    {
      "cell_type": "markdown",
      "metadata": {},
      "source": [
        "The environment is now registered in your workspace and you can reference it when you run a script as a job:"
      ]
    },
    {
      "cell_type": "code",
      "execution_count": null,
      "metadata": {
        "vscode": {
          "languageId": "python"
        }
      },
      "outputs": [],
      "source": [
        "from azure.ai.ml import command\n",
        "\n",
        "# configure job\n",
        "job = command(\n",
        "    code=\"./src\",\n",
        "    command=\"python diabetes-training.py\",\n",
        "    environment=\"docker-image-example:1\",\n",
        "    compute=\"aml-cluster\",\n",
        "    display_name=\"diabetes-train-custom-env\",\n",
        "    experiment_name=\"diabetes-training\"\n",
        ")\n",
        "\n",
        "# submit job\n",
        "returned_job = ml_client.create_or_update(job)\n",
        "aml_url = returned_job.studio_url\n",
        "print(\"Monitor your job at\", aml_url)"
      ]
    },
    {
      "attachments": {},
      "cell_type": "markdown",
      "metadata": {},
      "source": [
        "<p style=\"color:red;font-size:120%;background-color:yellow;font-weight:bold\"> The job will quickly fail! Review the error message. </p>\n",
        "\n",
        "The error message will tell you that there is no module named pandas. There are two possible causes for such an error:\n",
        "\n",
        "- The script uses pandas but didn't import the library (`import pandas as pd`). \n",
        "- The script does import the library at the top of the script but the compute didn't have the library installed (`pip install pandas`).\n",
        "\n",
        "After reviewing the `diabetes-training.py` script you can observe the script is correct, which means the library wasn't installed. In other words, the environment didn't include the necessary packages.\n",
        "\n",
        "Let's create a new environment, using the base Docker image used in the previous job. Now, you'll add a conda specification to ensure the necessary packages will be installed. First, run the following cell to create the conda specification file:"
      ]
    },
    {
      "cell_type": "code",
      "execution_count": null,
      "metadata": {
        "vscode": {
          "languageId": "python"
        }
      },
      "outputs": [],
      "source": [
        "%%writefile src/conda-env.yml\n",
        "name: basic-env-cpu\n",
        "channels:\n",
        "  - conda-forge\n",
        "dependencies:\n",
        "  - python=3.7\n",
        "  - scikit-learn\n",
        "  - pandas\n",
        "  - numpy\n",
        "  - matplotlib"
      ]
    },
    {
      "cell_type": "markdown",
      "metadata": {},
      "source": [
        "Note that all necessary dependencies are included in the conda specification file for the script to run successfully.\n",
        "\n",
        "Create a new environment using the base Docker image **and** the conda specification file to add the necessary dependencies. Azure Machine Learning will build the conda environment on top of the Docker image you provided. "
      ]
    },
    {
      "cell_type": "code",
      "execution_count": null,
      "metadata": {
        "vscode": {
          "languageId": "python"
        }
      },
      "outputs": [],
      "source": [
        "from azure.ai.ml.entities import Environment\n",
        "\n",
        "env_docker_conda = Environment(\n",
        "    image=\"mcr.microsoft.com/azureml/openmpi3.1.2-ubuntu18.04\",\n",
        "    conda_file=\"./src/conda-env.yml\",\n",
        "    name=\"docker-image-plus-conda-example\",\n",
        "    description=\"Environment created from a Docker image plus Conda environment.\",\n",
        ")\n",
        "ml_client.environments.create_or_update(env_docker_conda)"
      ]
    },
    {
      "cell_type": "markdown",
      "metadata": {},
      "source": [
        "Now, you can submit a job with the new environment to run the script:"
      ]
    },
    {
      "cell_type": "code",
      "execution_count": null,
      "metadata": {
        "vscode": {
          "languageId": "python"
        }
      },
      "outputs": [],
      "source": [
        "from azure.ai.ml import command\n",
        "\n",
        "# configure job\n",
        "job = command(\n",
        "    code=\"./src\",\n",
        "    command=\"python diabetes-training.py\",\n",
        "    environment=\"docker-image-plus-conda-example:1\",\n",
        "    compute=\"aml-cluster\",\n",
        "    display_name=\"diabetes-train-custom-env\",\n",
        "    experiment_name=\"diabetes-training\"\n",
        ")\n",
        "\n",
        "# submit job\n",
        "returned_job = ml_client.create_or_update(job)\n",
        "aml_url = returned_job.studio_url\n",
        "print(\"Monitor your job at\", aml_url)"
      ]
    },
    {
      "cell_type": "markdown",
      "metadata": {},
      "source": [
        "Submitting the job with the new custom environment triggers the build of the environment. The first time you use a newly created environment, it can take 10-15 minutes to build the environment, which also means your job will take longer to complete. \n",
        "\n",
        "You can also choose to manually trigger the build of the environment before you submit a job. The environment only needs to be built the first time you use it. \n",
        "\n",
        "When the job triggers the build of a new environment, you can review the logs of the build in the **Outputs + logs** tab of the job. Open **azureml-logs/20_image_build_log.txt** to inspect the logs of the environment build. \n",
        "\n",
        "![Screenshot build logs](./images/screenshot-logs.png)"
      ]
    }
  ],
  "metadata": {
    "kernel_info": {
      "name": "python38-azureml"
    },
    "kernelspec": {
      "display_name": "Python 3.8 - AzureML",
      "language": "python",
      "name": "python38-azureml"
    },
    "microsoft": {
      "host": {
        "AzureML": {
          "notebookHasBeenCompleted": true
        }
      }
    },
    "nteract": {
      "version": "nteract-front-end@1.0.0"
    },
    "vscode": {
      "interpreter": {
        "hash": "f2b2cd046deda8eabef1e765a11d0ec9aa9bd1d31d56ce79c815a38c323e14ec"
      }
    }
  },
  "nbformat": 4,
  "nbformat_minor": 2
}